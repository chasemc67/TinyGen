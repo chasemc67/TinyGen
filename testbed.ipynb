{
 "cells": [
  {
   "cell_type": "code",
   "execution_count": 8,
   "metadata": {},
   "outputs": [
    {
     "name": "stdout",
     "output_type": "stream",
     "text": [
      "\n",
      "\n",
      "1. Python \n",
      "2. Go \n",
      "3. Rust \n",
      "4. C++ \n",
      "5. Ruby \n",
      "6. JavaScript \n",
      "7. Swift \n",
      "8. Elixir \n",
      "9. Haskell \n",
      "10. Julia\n"
     ]
    }
   ],
   "source": [
    "from langchains.openai import create_openai_llm\n",
    "\n",
    "llm = create_openai_llm()\n",
    "\n",
    "print(llm.predict(\"Cool programming languages\"))"
   ]
  }
 ],
 "metadata": {
  "kernelspec": {
   "display_name": "venv",
   "language": "python",
   "name": "python3"
  },
  "language_info": {
   "codemirror_mode": {
    "name": "ipython",
    "version": 3
   },
   "file_extension": ".py",
   "mimetype": "text/x-python",
   "name": "python",
   "nbconvert_exporter": "python",
   "pygments_lexer": "ipython3",
   "version": "3.9.6"
  },
  "orig_nbformat": 4
 },
 "nbformat": 4,
 "nbformat_minor": 2
}
